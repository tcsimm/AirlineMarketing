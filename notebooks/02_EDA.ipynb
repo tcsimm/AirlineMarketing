{
 "cells": [
  {
   "cell_type": "code",
   "execution_count": null,
   "id": "9970b358",
   "metadata": {},
   "outputs": [],
   "source": [
    "# Part 2 - EDA\n",
    "\n",
    "import pandas as pd\n",
    "import seaborn as sns \n",
    "import sqlite3\n",
    "import matplotlib.pyplot as plt\n",
    "\n",
    "df = pd.read_csv(\"/Users/thomassimmons/Coding/Airline/data/MarketFarePredictionData_cleaned.csv\")"
   ]
  },
  {
   "cell_type": "code",
   "execution_count": null,
   "id": "03310556",
   "metadata": {},
   "outputs": [
    {
     "name": "stdout",
     "output_type": "stream",
     "text": [
      "<class 'pandas.core.frame.DataFrame'>\n",
      "RangeIndex: 63373 entries, 0 to 63372\n",
      "Data columns (total 26 columns):\n",
      " #   Column                   Non-Null Count  Dtype  \n",
      "---  ------                   --------------  -----  \n",
      " 0   mktcoupons               63373 non-null  int64  \n",
      " 1   origincitymarketid       63373 non-null  int64  \n",
      " 2   destcitymarketid         63373 non-null  int64  \n",
      " 3   originairportid          63373 non-null  int64  \n",
      " 4   destairportid            63373 non-null  int64  \n",
      " 5   carrier                  63373 non-null  int64  \n",
      " 6   nonstopmiles             63373 non-null  float64\n",
      " 7   roundtrip                63373 non-null  float64\n",
      " 8   odpairid                 63373 non-null  int64  \n",
      " 9   pax                      63373 non-null  float64\n",
      " 10  carrierpax               63373 non-null  float64\n",
      " 11  average_fare             63373 non-null  float64\n",
      " 12  market_share             63373 non-null  float64\n",
      " 13  market_hhi               63373 non-null  float64\n",
      " 14  lcc_comp                 63373 non-null  int64  \n",
      " 15  multi_airport            63373 non-null  int64  \n",
      " 16  circuity                 63373 non-null  float64\n",
      " 17  slot                     63373 non-null  int64  \n",
      " 18  non_stop                 63373 non-null  float64\n",
      " 19  mktmilesflown            63373 non-null  float64\n",
      " 20  origincitymarketid_freq  63373 non-null  float64\n",
      " 21  destcitymarketid_freq    63373 non-null  float64\n",
      " 22  originairportid_freq     63373 non-null  float64\n",
      " 23  destairportid_freq       63373 non-null  float64\n",
      " 24  carrier_freq             63373 non-null  float64\n",
      " 25  odpairid_freq            63373 non-null  float64\n",
      "dtypes: float64(16), int64(10)\n",
      "memory usage: 12.6 MB\n"
     ]
    }
   ],
   "source": [
    "# Basic overview\n",
    "df.head()\n",
    "df.describe(include='all')\n",
    "df.info()"
   ]
  },
  {
   "cell_type": "code",
   "execution_count": null,
   "id": "783f14bf",
   "metadata": {},
   "outputs": [
    {
     "data": {
      "text/plain": [
       "mktcoupons                 0\n",
       "origincitymarketid         0\n",
       "carrier_freq               0\n",
       "destairportid_freq         0\n",
       "originairportid_freq       0\n",
       "destcitymarketid_freq      0\n",
       "origincitymarketid_freq    0\n",
       "mktmilesflown              0\n",
       "non_stop                   0\n",
       "slot                       0\n",
       "circuity                   0\n",
       "multi_airport              0\n",
       "lcc_comp                   0\n",
       "market_hhi                 0\n",
       "market_share               0\n",
       "average_fare               0\n",
       "carrierpax                 0\n",
       "pax                        0\n",
       "odpairid                   0\n",
       "roundtrip                  0\n",
       "nonstopmiles               0\n",
       "carrier                    0\n",
       "destairportid              0\n",
       "originairportid            0\n",
       "destcitymarketid           0\n",
       "odpairid_freq              0\n",
       "dtype: int64"
      ]
     },
     "execution_count": 5,
     "metadata": {},
     "output_type": "execute_result"
    }
   ],
   "source": [
    "# Double checking for empty values\n",
    "df.isnull().sum().sort_values(ascending=False)"
   ]
  },
  {
   "cell_type": "code",
   "execution_count": null,
   "id": "48cd2670",
   "metadata": {},
   "outputs": [
    {
     "data": {
      "text/plain": [
       "0"
      ]
     },
     "execution_count": 6,
     "metadata": {},
     "output_type": "execute_result"
    }
   ],
   "source": [
    "df.duplicated().sum()\n",
    "# Good to go"
   ]
  },
  {
   "cell_type": "code",
   "execution_count": null,
   "id": "d3c1c88b",
   "metadata": {},
   "outputs": [],
   "source": []
  }
 ],
 "metadata": {
  "kernelspec": {
   "display_name": "base",
   "language": "python",
   "name": "python3"
  },
  "language_info": {
   "codemirror_mode": {
    "name": "ipython",
    "version": 3
   },
   "file_extension": ".py",
   "mimetype": "text/x-python",
   "name": "python",
   "nbconvert_exporter": "python",
   "pygments_lexer": "ipython3",
   "version": "3.12.4"
  }
 },
 "nbformat": 4,
 "nbformat_minor": 5
}
